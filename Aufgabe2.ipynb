{
  "nbformat": 4,
  "nbformat_minor": 0,
  "metadata": {
    "colab": {
      "provenance": [],
      "authorship_tag": "ABX9TyMqdIyXSe9ueZrkNhVsvMIP",
      "include_colab_link": true
    },
    "kernelspec": {
      "name": "python3",
      "display_name": "Python 3"
    },
    "language_info": {
      "name": "python"
    }
  },
  "cells": [
    {
      "cell_type": "markdown",
      "metadata": {
        "id": "view-in-github",
        "colab_type": "text"
      },
      "source": [
        "<a href=\"https://colab.research.google.com/github/Polina-Stoyanova/Spectrum-Of-An-Amplitude-Modulated-Signal/blob/main/Aufgabe2.ipynb\" target=\"_parent\"><img src=\"https://colab.research.google.com/assets/colab-badge.svg\" alt=\"Open In Colab\"/></a>"
      ]
    },
    {
      "cell_type": "markdown",
      "source": [
        "#Aufgabe 2:\n",
        "#Modellieren Sie die Hardware-Implementierung eines CRC-Algorithmus mit standarten Bluetooth Polynom (oder einem anderen Standartpolynom mit r => 8). Zeigen Sie wie die Fehlererkennung funktioniert."
      ],
      "metadata": {
        "id": "iYI1-9S_tDNJ"
      }
    },
    {
      "cell_type": "markdown",
      "source": [
        "Lösung:"
      ],
      "metadata": {
        "id": "gKqAuLFXtNqF"
      }
    },
    {
      "cell_type": "markdown",
      "source": [
        "r = Order of the generator polynom G(x)\n"
      ],
      "metadata": {
        "id": "IgShazNHzQHf"
      }
    },
    {
      "cell_type": "markdown",
      "source": [
        "Bluetooth Polynom (CRC-CCITT) is a type of a Generator Polynom: x^16 + x^12 + x^5 + 1"
      ],
      "metadata": {
        "id": "uJIR-loT-0Y-"
      }
    },
    {
      "cell_type": "markdown",
      "source": [
        "x^16 + x^12 + x^5 + 1 => 10001000000100001"
      ],
      "metadata": {
        "id": "KS8ucnvC0CfD"
      }
    },
    {
      "cell_type": "markdown",
      "source": [
        "# IMPLEMENTIERUNG:"
      ],
      "metadata": {
        "id": "TYKAQuD5Bu2O"
      }
    },
    {
      "cell_type": "code",
      "source": [
        "import numpy as np"
      ],
      "metadata": {
        "id": "it5tC01wKryC"
      },
      "execution_count": null,
      "outputs": []
    },
    {
      "cell_type": "markdown",
      "source": [
        "XOR Definition:"
      ],
      "metadata": {
        "id": "a41twvtlZqou"
      }
    },
    {
      "cell_type": "code",
      "source": [
        "def xor(a,b):\n",
        "  if a == b:\n",
        "    resultat = 0 \n",
        "  else:\n",
        "    resultat = 1 \n",
        "  return resultat\n"
      ],
      "metadata": {
        "id": "0JmF8rdqH1VS"
      },
      "execution_count": null,
      "outputs": []
    },
    {
      "cell_type": "markdown",
      "source": [
        "Suche nach Rest (Remainder):"
      ],
      "metadata": {
        "id": "LxwdrikrZ5x8"
      }
    },
    {
      "cell_type": "code",
      "source": [
        "def suche_rest(speicher_zellen, nachricht):\n",
        "  XOR_x4 = 0\n",
        "  XOR_x11 = 0\n",
        "  XOR_x16 = 0\n",
        "\n",
        "  for t in range(0, len(speicher_zellen), 1):\n",
        "    speicher_zellen[t]=0\n",
        "\n",
        "\n",
        "\n",
        "  for i in range(0, len(nachricht), 1):\n",
        "\n",
        "    for j in range(0, len(speicher_zellen), 1):\n",
        "        \n",
        "      if (j == 15):\n",
        "        speicher_zellen[j] = xor(nachricht[i], XOR_x16)\n",
        "      elif (j == 10):\n",
        "        speicher_zellen[j] = xor(speicher_zellen[j+1], XOR_x11)\n",
        "      elif (j == 3):\n",
        "        speicher_zellen[j] = xor(speicher_zellen[j+1], XOR_x4)      \n",
        "      else:\n",
        "        speicher_zellen[j] =  speicher_zellen[j+1]\n",
        "\n",
        "    if (speicher_zellen[0] == 0):\n",
        "      XOR_x4 = 0\n",
        "      XOR_x11 = 0\n",
        "      XOR_x16 = 0\n",
        "\n",
        "    elif (speicher_zellen[0] == 1):\n",
        "      XOR_x4 = 1\n",
        "      XOR_x11 = 1\n",
        "      XOR_x16 = 1\n",
        "\n",
        "    print(speicher_zellen)\n",
        "  return speicher_zellen\n"
      ],
      "metadata": {
        "id": "Xso3GpXojsoI"
      },
      "execution_count": null,
      "outputs": []
    },
    {
      "cell_type": "markdown",
      "source": [
        "Prüfung, ob die Zahl eine Binarzahl ist:"
      ],
      "metadata": {
        "id": "TRQNejsuB7Hd"
      }
    },
    {
      "cell_type": "code",
      "source": [
        "def check(string) :\n",
        "  b = set(string)\n",
        "  s = {0, 1}\n",
        "  \n",
        "  if s == b or b == {0} or b == {1}:\n",
        "    print(\"Binary Number\")\n",
        "    bin = 1\n",
        "  else :\n",
        "    print(\"Non Binary Number\")\n",
        "    bin = 0\n",
        "  return bin"
      ],
      "metadata": {
        "id": "UXMACl6H-jdL"
      },
      "execution_count": null,
      "outputs": []
    },
    {
      "cell_type": "markdown",
      "source": [
        "Wahl der Nachricht:"
      ],
      "metadata": {
        "id": "Fz_06CxAZwsV"
      }
    },
    {
      "cell_type": "code",
      "source": [
        "import numpy as np\n",
        "\n",
        "user_input = [int(i) for i in input() if i.isdigit()]\n",
        "print(user_input)\n",
        "\n",
        "nachricht = np.array(user_input)\n",
        "print(nachricht)\n",
        "\n",
        "p = check(user_input)\n",
        "\n",
        "while(p==0):\n",
        "  user_input = [int(i) for i in input() if i.isdigit()]\n",
        "  print(user_input)\n",
        "  p = check(user_input)"
      ],
      "metadata": {
        "id": "MRHqL90a1nbm"
      },
      "execution_count": null,
      "outputs": []
    },
    {
      "cell_type": "code",
      "source": [
        "#Standard Bluetooth Polynom => 16 Speicherzellen\n",
        "#Schaffen von Speicherzellen\n",
        "speicher_zellen = np.array([0 for i in range(16)]) \n",
        "\n",
        "print(\"Leere Speicherzellen: \", speicher_zellen)\n",
        "print(\"Speicherzellen Länge: \", len(speicher_zellen))\n",
        "\n",
        "print(\"Nachricht: \", nachricht)\n",
        "print(\"Nachricht Länge: \", len(nachricht))\n",
        "\n",
        "#Das CRC-16 Polynom hat 16-bits Länge und deshalb soll die originale Nachricht mit 16 Nullen ergänzt werden\n",
        "\n",
        "# Ergänzung der Nachricht \n",
        "ergänzt_nachricht = np.array([0 for i in range(16+len(nachricht))])\n",
        "print(\"Länge der ergänten Nachricht: \", len(ergänzt_nachricht))\n",
        "\n",
        "for i in range(0, len(nachricht), 1):\n",
        "  ergänzt_nachricht[i] = nachricht[i]\n",
        "print(ergänzt_nachricht)\n"
      ],
      "metadata": {
        "colab": {
          "base_uri": "https://localhost:8080/"
        },
        "id": "EIJRqGXeBs0G",
        "outputId": "daa84824-c350-4619-d30d-ed300e4f3a10"
      },
      "execution_count": null,
      "outputs": [
        {
          "output_type": "stream",
          "name": "stdout",
          "text": [
            "Leere Speicherzellen:  [0 0 0 0 0 0 0 0 0 0 0 0 0 0 0 0]\n",
            "Speicherzellen Länge:  16\n",
            "Nachricht:  [1 0 1 0]\n",
            "Nachricht Länge:  4\n",
            "Länge der ergänten Nachricht:  20\n",
            "[1 0 1 0 0 0 0 0 0 0 0 0 0 0 0 0 0 0 0 0]\n"
          ]
        }
      ]
    },
    {
      "cell_type": "markdown",
      "source": [
        "Rest (Remainder) berechnen:"
      ],
      "metadata": {
        "id": "Td3WjHivECU8"
      }
    },
    {
      "cell_type": "code",
      "source": [
        "rest = suche_rest(speicher_zellen, ergänzt_nachricht)\n",
        "print(\"Rest: \", rest)"
      ],
      "metadata": {
        "colab": {
          "base_uri": "https://localhost:8080/"
        },
        "id": "lypTlH6Oz0Ii",
        "outputId": "27e0a513-db75-4cba-ffb3-ee59c1b009df"
      },
      "execution_count": null,
      "outputs": [
        {
          "output_type": "stream",
          "name": "stdout",
          "text": [
            "[0 0 0 0 0 0 0 0 0 0 0 0 0 0 0 1]\n",
            "[0 0 0 0 0 0 0 0 0 0 0 0 0 0 1 0]\n",
            "[0 0 0 0 0 0 0 0 0 0 0 0 0 1 0 1]\n",
            "[0 0 0 0 0 0 0 0 0 0 0 0 1 0 1 0]\n",
            "[0 0 0 0 0 0 0 0 0 0 0 1 0 1 0 0]\n",
            "[0 0 0 0 0 0 0 0 0 0 1 0 1 0 0 0]\n",
            "[0 0 0 0 0 0 0 0 0 1 0 1 0 0 0 0]\n",
            "[0 0 0 0 0 0 0 0 1 0 1 0 0 0 0 0]\n",
            "[0 0 0 0 0 0 0 1 0 1 0 0 0 0 0 0]\n",
            "[0 0 0 0 0 0 1 0 1 0 0 0 0 0 0 0]\n",
            "[0 0 0 0 0 1 0 1 0 0 0 0 0 0 0 0]\n",
            "[0 0 0 0 1 0 1 0 0 0 0 0 0 0 0 0]\n",
            "[0 0 0 1 0 1 0 0 0 0 0 0 0 0 0 0]\n",
            "[0 0 1 0 1 0 0 0 0 0 0 0 0 0 0 0]\n",
            "[0 1 0 1 0 0 0 0 0 0 0 0 0 0 0 0]\n",
            "[1 0 1 0 0 0 0 0 0 0 0 0 0 0 0 0]\n",
            "[0 1 0 1 0 0 0 0 0 0 1 0 0 0 0 1]\n",
            "[1 0 1 0 0 0 0 0 0 1 0 0 0 0 1 0]\n",
            "[0 1 0 1 0 0 0 0 1 0 1 0 0 1 0 1]\n",
            "[1 0 1 0 0 0 0 1 0 1 0 0 1 0 1 0]\n",
            "Rest:  [1 0 1 0 0 0 0 1 0 1 0 0 1 0 1 0]\n"
          ]
        }
      ]
    },
    {
      "cell_type": "markdown",
      "source": [
        "Kodierte Nachricht:"
      ],
      "metadata": {
        "id": "eDHm2pkz5C14"
      }
    },
    {
      "cell_type": "code",
      "source": [
        "kod_nachricht = np.concatenate((nachricht, rest))\n",
        "print(\"Kodierte Nachricht: \", kod_nachricht)"
      ],
      "metadata": {
        "colab": {
          "base_uri": "https://localhost:8080/"
        },
        "id": "ddaSov615GgL",
        "outputId": "7ae63d90-6b13-4106-c073-95a3b0397a3b"
      },
      "execution_count": null,
      "outputs": [
        {
          "output_type": "stream",
          "name": "stdout",
          "text": [
            "Kodierte Nachricht:  [1 0 1 0 1 0 1 0 0 0 0 1 0 1 0 0 1 0 1 0]\n"
          ]
        }
      ]
    },
    {
      "cell_type": "markdown",
      "source": [
        "Prüfung auf Fehler beim Senden des Nachrichts:"
      ],
      "metadata": {
        "id": "88ymU9yc7qp5"
      }
    },
    {
      "cell_type": "code",
      "source": [
        "prüf_zellen = np.array([0 for i in range(16)]) \n",
        "prüf = suche_rest(prüf_zellen, kod_nachricht)\n",
        "\n",
        "print(\"Fehler beim Senden: \", prüf)\n",
        "m=0\n",
        "\n",
        "for i in range(0, len(prüf)):\n",
        "  if(prüf[i] != 0):\n",
        "    m+=1\n",
        "if(m!=0):\n",
        "  print(\"Es gibt einen Fehler beim Senden!\")\n",
        "else:\n",
        "  print(\"Es gibt keinen Fehler beim Senden!\")"
      ],
      "metadata": {
        "colab": {
          "base_uri": "https://localhost:8080/"
        },
        "id": "KT77qYhv76wI",
        "outputId": "b30b34ce-c076-4f27-b7af-c25e5c0a3c7b"
      },
      "execution_count": null,
      "outputs": [
        {
          "output_type": "stream",
          "name": "stdout",
          "text": [
            "Fehler beim Senden:  [0 0 0 0 0 0 0 0 0 0 0 0 0 0 0 0]\n",
            "Es gibt keinen Fehler beim Senden!\n"
          ]
        }
      ]
    }
  ]
}